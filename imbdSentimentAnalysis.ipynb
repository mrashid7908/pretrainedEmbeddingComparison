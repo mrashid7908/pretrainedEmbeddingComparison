{
 "cells": [
  {
   "cell_type": "code",
   "execution_count": 1,
   "metadata": {},
   "outputs": [],
   "source": [
    "import time \n",
    "import numpy as np\n",
    "import importlib\n",
    "import tensorflow_datasets as tfds\n",
    "import tensorflow_hub as hub\n",
    "import tensorflow as tf\n",
    "from tensorflow import keras\n",
    "from tensorflow.keras import layers\n",
    "from tensorflow.keras import losses\n",
    "from tensorflow.keras.layers.experimental.preprocessing import TextVectorization"
   ]
  },
  {
   "cell_type": "code",
   "execution_count": 2,
   "metadata": {},
   "outputs": [],
   "source": [
    "train_data, test_data = tfds.load(\n",
    "    name=\"imdb_reviews\", \n",
    "    split=('train', 'test'), batch_size=-1,\n",
    "    as_supervised=True)\n",
    "\n",
    "#Since the models aren't being tuned, I'm just going to use the test_data as validation data \n",
    "#If I was tuning while training then I'd set aside validation data to measure performance while training\n",
    "#and then use the test set at the end to get the best possible measure of the model's performance on unseen data"
   ]
  },
  {
   "cell_type": "code",
   "execution_count": 3,
   "metadata": {},
   "outputs": [],
   "source": [
    "xTrain, yTrain = tfds.as_numpy(train_data)\n",
    "xTest, yTest = tfds.as_numpy(test_data)"
   ]
  },
  {
   "cell_type": "code",
   "execution_count": 4,
   "metadata": {},
   "outputs": [],
   "source": [
    "#Use fewer rows of the data. You might want to do this if you're wanting fast results for prototyping\n",
    "xTrain = xTrain[0:xTrain.shape[0]//4,]\n",
    "yTrain = yTrain[0:yTrain.shape[0]//4]\n",
    "\n",
    "xTest = xTest[0:xTest.shape[0]//8]\n",
    "yTest = yTest[0:yTest.shape[0]//8]"
   ]
  },
  {
   "cell_type": "code",
   "execution_count": 5,
   "metadata": {},
   "outputs": [
    {
     "name": "stdout",
     "output_type": "stream",
     "text": [
      "(6250,) (6250,) (3125,) (3125,)\n"
     ]
    }
   ],
   "source": [
    "print(xTrain.shape, yTrain.shape, xTest.shape, yTest.shape)"
   ]
  },
  {
   "cell_type": "code",
   "execution_count": 6,
   "metadata": {},
   "outputs": [],
   "source": [
    "max_features = 5000  # Maximum vocab size, i.e. the number of unique numbers in the int sequences. The embedding layer will also need this number  \n",
    "max_len = 500  # Sequence length to trim/pad the outputs to. In RNN terms this is essentially the number of timesteps \n",
    "\n",
    "vectorize_layer = TextVectorization(max_tokens=max_features,output_sequence_length=max_len)"
   ]
  },
  {
   "cell_type": "code",
   "execution_count": 7,
   "metadata": {},
   "outputs": [],
   "source": [
    "vectorize_layer.adapt(xTrain)"
   ]
  },
  {
   "cell_type": "code",
   "execution_count": 8,
   "metadata": {},
   "outputs": [
    {
     "name": "stdout",
     "output_type": "stream",
     "text": [
      "(6250, 500) (3125, 500)\n"
     ]
    }
   ],
   "source": [
    "xTrainV = vectorize_layer(xTrain)\n",
    "xTestV = vectorize_layer(xTest)\n",
    "print(xTrainV.shape, xTestV.shape)"
   ]
  },
  {
   "cell_type": "code",
   "execution_count": null,
   "metadata": {},
   "outputs": [],
   "source": []
  },
  {
   "cell_type": "markdown",
   "metadata": {},
   "source": [
    "## Train models "
   ]
  },
  {
   "cell_type": "code",
   "execution_count": 9,
   "metadata": {},
   "outputs": [],
   "source": [
    "#all models will be trained with this number of epochs and batch size, although some\n",
    "#models may perform better with different batch sizes and some models may need more or\n",
    "#less than the set number of epochs. Usually I would attach a earlystopping callback but for\n",
    "#the purpose of plotting I want all the models to run for exactly the same number of epochs \n",
    "numEpochs = 10\n",
    "batchSize = 512"
   ]
  },
  {
   "cell_type": "code",
   "execution_count": 10,
   "metadata": {},
   "outputs": [],
   "source": [
    "#a dict to save the fit histories in\n",
    "historyDicts = {}"
   ]
  },
  {
   "cell_type": "markdown",
   "metadata": {},
   "source": [
    "### Model with locally trained embedding layer "
   ]
  },
  {
   "cell_type": "markdown",
   "metadata": {},
   "source": [
    "This model learns the embedding itself instead of using a pretrained embedding"
   ]
  },
  {
   "cell_type": "code",
   "execution_count": 11,
   "metadata": {},
   "outputs": [],
   "source": [
    "embeddingDims = 16 #this is the length of the vectors resulting from the embedding.\n",
    "#In terms of what the RNNs layers see, this is the number of features at each timestep \n",
    "#Each word (or rather, each word index) in each sentence will become a vector of length embeddingDims "
   ]
  },
  {
   "cell_type": "code",
   "execution_count": 12,
   "metadata": {},
   "outputs": [],
   "source": [
    "#you can make the vectorize layer the first layer of the network. If you do that, then you must pass\n",
    "#the original data (xTrain, xTest) to .fit as opposed to the vectorized versions (xTrainV, xTestV)\n",
    "#But doing the vectorization beforehand and passing xTrainV and xTestV makes training go faster since the \n",
    "#model doesn't have to vectorize on passes through the network \n",
    "\n",
    "inputs = keras.Input(shape=(max_len)) #when fst layer is LSTM use this: keras.Input(shape=(timesteps, numFeatures))\n",
    "embedder = layers.Embedding(max_features+1, embeddingDims)(inputs)\n",
    "averaging = layers.GlobalAveragePooling1D()(embedder)\n",
    "#layers.Dropout(0.2),\n",
    "denseLayer1 = layers.Dense(16)(averaging) #adding this layer actually decreases performance for this architecture\n",
    "denseLayer2 = layers.Dense(1)(denseLayer1)\n",
    "model = keras.Model(inputs, denseLayer2)"
   ]
  },
  {
   "cell_type": "code",
   "execution_count": 13,
   "metadata": {},
   "outputs": [],
   "source": [
    "model.compile(loss=losses.BinaryCrossentropy(from_logits=True),\n",
    "              optimizer='adam',\n",
    "              metrics=[tf.metrics.BinaryAccuracy(threshold=0)])"
   ]
  },
  {
   "cell_type": "code",
   "execution_count": 14,
   "metadata": {},
   "outputs": [
    {
     "name": "stdout",
     "output_type": "stream",
     "text": [
      "Model: \"model\"\n",
      "_________________________________________________________________\n",
      "Layer (type)                 Output Shape              Param #   \n",
      "=================================================================\n",
      "input_1 (InputLayer)         [(None, 500)]             0         \n",
      "_________________________________________________________________\n",
      "embedding (Embedding)        (None, 500, 16)           80016     \n",
      "_________________________________________________________________\n",
      "global_average_pooling1d (Gl (None, 16)                0         \n",
      "_________________________________________________________________\n",
      "dense (Dense)                (None, 16)                272       \n",
      "_________________________________________________________________\n",
      "dense_1 (Dense)              (None, 1)                 17        \n",
      "=================================================================\n",
      "Total params: 80,305\n",
      "Trainable params: 80,305\n",
      "Non-trainable params: 0\n",
      "_________________________________________________________________\n"
     ]
    }
   ],
   "source": [
    "model.summary()"
   ]
  },
  {
   "cell_type": "code",
   "execution_count": 15,
   "metadata": {},
   "outputs": [
    {
     "name": "stdout",
     "output_type": "stream",
     "text": [
      "Epoch 1/10\n",
      "13/13 [==============================] - 1s 62ms/step - loss: 0.6931 - binary_accuracy: 0.5005 - val_loss: 0.6927 - val_binary_accuracy: 0.5126\n",
      "Epoch 2/10\n",
      "13/13 [==============================] - 1s 44ms/step - loss: 0.6925 - binary_accuracy: 0.5248 - val_loss: 0.6922 - val_binary_accuracy: 0.5149\n",
      "Epoch 3/10\n",
      "13/13 [==============================] - 1s 55ms/step - loss: 0.6916 - binary_accuracy: 0.5350 - val_loss: 0.6913 - val_binary_accuracy: 0.5898\n",
      "Epoch 4/10\n",
      "13/13 [==============================] - 1s 47ms/step - loss: 0.6905 - binary_accuracy: 0.5643 - val_loss: 0.6901 - val_binary_accuracy: 0.5178\n",
      "Epoch 5/10\n",
      "13/13 [==============================] - ETA: 0s - loss: 0.6884 - binary_accuracy: 0.567 - 1s 45ms/step - loss: 0.6884 - binary_accuracy: 0.5672 - val_loss: 0.6881 - val_binary_accuracy: 0.6701\n",
      "Epoch 6/10\n",
      "13/13 [==============================] - 1s 47ms/step - loss: 0.6856 - binary_accuracy: 0.7014 - val_loss: 0.6853 - val_binary_accuracy: 0.6544\n",
      "Epoch 7/10\n",
      "13/13 [==============================] - 1s 51ms/step - loss: 0.6814 - binary_accuracy: 0.6982 - val_loss: 0.6812 - val_binary_accuracy: 0.6890\n",
      "Epoch 8/10\n",
      "13/13 [==============================] - 1s 41ms/step - loss: 0.6759 - binary_accuracy: 0.7195 - val_loss: 0.6757 - val_binary_accuracy: 0.7034\n",
      "Epoch 9/10\n",
      "13/13 [==============================] - 0s 36ms/step - loss: 0.6685 - binary_accuracy: 0.7310 - val_loss: 0.6688 - val_binary_accuracy: 0.7139\n",
      "Epoch 10/10\n",
      "13/13 [==============================] - 0s 35ms/step - loss: 0.6593 - binary_accuracy: 0.7387 - val_loss: 0.6602 - val_binary_accuracy: 0.7274\n",
      "Time elapsed (mins): 0.11170255740483602\n"
     ]
    }
   ],
   "source": [
    "start = time.time()\n",
    "\n",
    "#history = model.fit(xTrain,yTrain,validation_data=(xTest, yTest), epochs=10)\n",
    "\n",
    "#If text vectorization was not put at start of model, use prevectorized version of data: \n",
    "lhistory = model.fit(xTrainV, yTrain, \n",
    "                    validation_data=(xTestV, yTest), \n",
    "                    #callbacks=[tf.keras.callbacks.EarlyStopping(monitor='val_binary_accuracy', patience=3)],\n",
    "                    batch_size=batchSize, #for this model batch size 32 results in better performance \n",
    "                    epochs=numEpochs)\n",
    "\n",
    "end = time.time()\n",
    "print(\"Time elapsed (mins):\", (end-start)/60)"
   ]
  },
  {
   "cell_type": "code",
   "execution_count": 16,
   "metadata": {},
   "outputs": [],
   "source": [
    "historyDicts['local'] = lhistory.history\n",
    "historyDicts['local']['trainTime'] = round((end - start)/60, 2)"
   ]
  },
  {
   "cell_type": "code",
   "execution_count": null,
   "metadata": {},
   "outputs": [],
   "source": []
  },
  {
   "cell_type": "code",
   "execution_count": null,
   "metadata": {},
   "outputs": [],
   "source": []
  },
  {
   "cell_type": "markdown",
   "metadata": {},
   "source": [
    "### Pretrained embedding: Google NNLM 50"
   ]
  },
  {
   "cell_type": "code",
   "execution_count": 17,
   "metadata": {},
   "outputs": [],
   "source": [
    "#I believe this hub model is also doing word level embedding, but the embeddings are avearged \n",
    "#to form a sentence level embedding \n",
    "model = \"https://tfhub.dev/google/nnlm-en-dim50/2\"\n",
    "hub_layer = hub.KerasLayer(model, input_shape=[], dtype=tf.string, trainable=True)"
   ]
  },
  {
   "cell_type": "code",
   "execution_count": 18,
   "metadata": {},
   "outputs": [],
   "source": [
    "model = tf.keras.Sequential()\n",
    "model.add(hub_layer)\n",
    "#model.add(layers.GlobalAveragePooling1D()) #no pooling layer because one embedding per sentence \n",
    "model.add(tf.keras.layers.Dense(16, activation='relu'))\n",
    "model.add(tf.keras.layers.Dense(1))"
   ]
  },
  {
   "cell_type": "code",
   "execution_count": 19,
   "metadata": {},
   "outputs": [
    {
     "name": "stdout",
     "output_type": "stream",
     "text": [
      "Model: \"sequential\"\n",
      "_________________________________________________________________\n",
      "Layer (type)                 Output Shape              Param #   \n",
      "=================================================================\n",
      "keras_layer (KerasLayer)     (None, 50)                48190600  \n",
      "_________________________________________________________________\n",
      "dense_2 (Dense)              (None, 16)                816       \n",
      "_________________________________________________________________\n",
      "dense_3 (Dense)              (None, 1)                 17        \n",
      "=================================================================\n",
      "Total params: 48,191,433\n",
      "Trainable params: 48,191,433\n",
      "Non-trainable params: 0\n",
      "_________________________________________________________________\n"
     ]
    }
   ],
   "source": [
    "model.summary()"
   ]
  },
  {
   "cell_type": "code",
   "execution_count": 20,
   "metadata": {},
   "outputs": [],
   "source": [
    "model.compile(optimizer='adam',\n",
    "              loss=tf.losses.BinaryCrossentropy(from_logits=True),\n",
    "              metrics=[tf.metrics.BinaryAccuracy(threshold=0.0)])"
   ]
  },
  {
   "cell_type": "code",
   "execution_count": 21,
   "metadata": {},
   "outputs": [
    {
     "name": "stdout",
     "output_type": "stream",
     "text": [
      "Epoch 1/10\n",
      "13/13 [==============================] - 10s 741ms/step - loss: 0.7140 - binary_accuracy: 0.5245 - val_loss: 0.6814 - val_binary_accuracy: 0.5632\n",
      "Epoch 2/10\n",
      "13/13 [==============================] - 9s 676ms/step - loss: 0.6588 - binary_accuracy: 0.6248 - val_loss: 0.6542 - val_binary_accuracy: 0.6675\n",
      "Epoch 3/10\n",
      "13/13 [==============================] - 9s 668ms/step - loss: 0.6182 - binary_accuracy: 0.7637 - val_loss: 0.6231 - val_binary_accuracy: 0.7242\n",
      "Epoch 4/10\n",
      "13/13 [==============================] - 9s 668ms/step - loss: 0.5643 - binary_accuracy: 0.8186 - val_loss: 0.5772 - val_binary_accuracy: 0.7603\n",
      "Epoch 5/10\n",
      "13/13 [==============================] - 9s 671ms/step - loss: 0.4953 - binary_accuracy: 0.8477 - val_loss: 0.5282 - val_binary_accuracy: 0.7885\n",
      "Epoch 6/10\n",
      "13/13 [==============================] - 9s 671ms/step - loss: 0.4204 - binary_accuracy: 0.8787 - val_loss: 0.4819 - val_binary_accuracy: 0.8026\n",
      "Epoch 7/10\n",
      "13/13 [==============================] - 9s 669ms/step - loss: 0.3462 - binary_accuracy: 0.9110 - val_loss: 0.4414 - val_binary_accuracy: 0.8208\n",
      "Epoch 8/10\n",
      "13/13 [==============================] - 9s 676ms/step - loss: 0.2785 - binary_accuracy: 0.9328 - val_loss: 0.4101 - val_binary_accuracy: 0.8282\n",
      "Epoch 9/10\n",
      "13/13 [==============================] - 9s 684ms/step - loss: 0.2212 - binary_accuracy: 0.9490 - val_loss: 0.3922 - val_binary_accuracy: 0.8298\n",
      "Epoch 10/10\n",
      "13/13 [==============================] - 9s 671ms/step - loss: 0.1758 - binary_accuracy: 0.9634 - val_loss: 0.3814 - val_binary_accuracy: 0.8304\n",
      "Time elapsed (mins): 1.4749897559483847\n"
     ]
    }
   ],
   "source": [
    "start = time.time()\n",
    "\n",
    "#pass the original instead of vectorized data, because the hub layer does tokenization itself\n",
    "nnlm50history = model.fit(xTrain, yTrain,\n",
    "                    validation_data=(xTest, yTest),\n",
    "                    batch_size=batchSize,\n",
    "                    epochs=numEpochs)\n",
    "                    \n",
    "end = time.time()\n",
    "print(\"Time elapsed (mins):\", (end-start)/60)"
   ]
  },
  {
   "cell_type": "code",
   "execution_count": 22,
   "metadata": {},
   "outputs": [],
   "source": [
    "historyDicts['nnlm50'] = nnlm50history.history\n",
    "historyDicts['nnlm50']['trainTime'] = round((end - start)/60, 2)"
   ]
  },
  {
   "cell_type": "code",
   "execution_count": null,
   "metadata": {},
   "outputs": [],
   "source": []
  },
  {
   "cell_type": "code",
   "execution_count": null,
   "metadata": {},
   "outputs": [],
   "source": []
  },
  {
   "cell_type": "markdown",
   "metadata": {},
   "source": [
    "### Pretrained embedding: Google NNLM 50 with normalization"
   ]
  },
  {
   "cell_type": "code",
   "execution_count": 23,
   "metadata": {},
   "outputs": [],
   "source": [
    "model = \"https://tfhub.dev/google/nnlm-en-dim50-with-normalization/2\"\n",
    "hub_layer = hub.KerasLayer(model, input_shape=[], dtype=tf.string, trainable=True)"
   ]
  },
  {
   "cell_type": "code",
   "execution_count": 24,
   "metadata": {},
   "outputs": [],
   "source": [
    "model = tf.keras.Sequential()\n",
    "model.add(hub_layer)\n",
    "model.add(tf.keras.layers.Dense(16, activation='relu'))\n",
    "model.add(tf.keras.layers.Dense(1))"
   ]
  },
  {
   "cell_type": "code",
   "execution_count": 25,
   "metadata": {},
   "outputs": [
    {
     "name": "stdout",
     "output_type": "stream",
     "text": [
      "Model: \"sequential_1\"\n",
      "_________________________________________________________________\n",
      "Layer (type)                 Output Shape              Param #   \n",
      "=================================================================\n",
      "keras_layer_1 (KerasLayer)   (None, 50)                48190600  \n",
      "_________________________________________________________________\n",
      "dense_4 (Dense)              (None, 16)                816       \n",
      "_________________________________________________________________\n",
      "dense_5 (Dense)              (None, 1)                 17        \n",
      "=================================================================\n",
      "Total params: 48,191,433\n",
      "Trainable params: 48,191,433\n",
      "Non-trainable params: 0\n",
      "_________________________________________________________________\n"
     ]
    }
   ],
   "source": [
    "model.summary()"
   ]
  },
  {
   "cell_type": "code",
   "execution_count": 26,
   "metadata": {},
   "outputs": [],
   "source": [
    "model.compile(optimizer='adam',\n",
    "              loss=tf.losses.BinaryCrossentropy(from_logits=True),\n",
    "              metrics=[tf.metrics.BinaryAccuracy(threshold=0.0)])"
   ]
  },
  {
   "cell_type": "code",
   "execution_count": 27,
   "metadata": {},
   "outputs": [
    {
     "name": "stdout",
     "output_type": "stream",
     "text": [
      "Epoch 1/10\n",
      "13/13 [==============================] - 9s 690ms/step - loss: 0.6903 - binary_accuracy: 0.5493 - val_loss: 0.6654 - val_binary_accuracy: 0.6294\n",
      "Epoch 2/10\n",
      "13/13 [==============================] - 9s 672ms/step - loss: 0.6392 - binary_accuracy: 0.7026 - val_loss: 0.6329 - val_binary_accuracy: 0.6874\n",
      "Epoch 3/10\n",
      "13/13 [==============================] - 9s 677ms/step - loss: 0.5932 - binary_accuracy: 0.7557 - val_loss: 0.5977 - val_binary_accuracy: 0.7254\n",
      "Epoch 4/10\n",
      "13/13 [==============================] - 9s 674ms/step - loss: 0.5399 - binary_accuracy: 0.7963 - val_loss: 0.5573 - val_binary_accuracy: 0.7581\n",
      "Epoch 5/10\n",
      "13/13 [==============================] - 9s 675ms/step - loss: 0.4798 - binary_accuracy: 0.8382 - val_loss: 0.5148 - val_binary_accuracy: 0.7846\n",
      "Epoch 6/10\n",
      "13/13 [==============================] - 9s 676ms/step - loss: 0.4160 - binary_accuracy: 0.8725 - val_loss: 0.4721 - val_binary_accuracy: 0.8032\n",
      "Epoch 7/10\n",
      "13/13 [==============================] - 9s 675ms/step - loss: 0.3504 - binary_accuracy: 0.9032 - val_loss: 0.4316 - val_binary_accuracy: 0.8234\n",
      "Epoch 8/10\n",
      "13/13 [==============================] - 9s 675ms/step - loss: 0.2880 - binary_accuracy: 0.9259 - val_loss: 0.3971 - val_binary_accuracy: 0.8403\n",
      "Epoch 9/10\n",
      "13/13 [==============================] - 9s 676ms/step - loss: 0.2311 - binary_accuracy: 0.9458 - val_loss: 0.3759 - val_binary_accuracy: 0.8445\n",
      "Epoch 10/10\n",
      "13/13 [==============================] - 9s 674ms/step - loss: 0.1846 - binary_accuracy: 0.9584 - val_loss: 0.3512 - val_binary_accuracy: 0.8541\n",
      "Time elapsed (mins): 1.465508262316386\n"
     ]
    }
   ],
   "source": [
    "start = time.time()\n",
    "\n",
    "nnlm50normhistory = model.fit(xTrain, yTrain,\n",
    "                    validation_data=(xTest, yTest),\n",
    "                    batch_size=batchSize,\n",
    "                    epochs=numEpochs)\n",
    "                    \n",
    "end = time.time()\n",
    "print(\"Time elapsed (mins):\", (end-start)/60)"
   ]
  },
  {
   "cell_type": "code",
   "execution_count": 28,
   "metadata": {},
   "outputs": [],
   "source": [
    "historyDicts['nnlm50norm'] = nnlm50normhistory.history\n",
    "historyDicts['nnlm50norm']['trainTime'] = round((end - start)/60, 2)"
   ]
  },
  {
   "cell_type": "code",
   "execution_count": null,
   "metadata": {},
   "outputs": [],
   "source": []
  },
  {
   "cell_type": "code",
   "execution_count": null,
   "metadata": {},
   "outputs": [],
   "source": []
  },
  {
   "cell_type": "markdown",
   "metadata": {},
   "source": [
    "### Pretrained embedding: Google NNLM 128"
   ]
  },
  {
   "cell_type": "code",
   "execution_count": 29,
   "metadata": {},
   "outputs": [],
   "source": [
    "model = \"https://tfhub.dev/google/nnlm-en-dim128/2\"\n",
    "hub_layer = hub.KerasLayer(model, input_shape=[], dtype=tf.string, trainable=True)"
   ]
  },
  {
   "cell_type": "code",
   "execution_count": 30,
   "metadata": {},
   "outputs": [],
   "source": [
    "model = tf.keras.Sequential()\n",
    "model.add(hub_layer)\n",
    "model.add(tf.keras.layers.Dense(16, activation='relu'))\n",
    "model.add(tf.keras.layers.Dense(1))"
   ]
  },
  {
   "cell_type": "code",
   "execution_count": 31,
   "metadata": {},
   "outputs": [
    {
     "name": "stdout",
     "output_type": "stream",
     "text": [
      "Model: \"sequential_2\"\n",
      "_________________________________________________________________\n",
      "Layer (type)                 Output Shape              Param #   \n",
      "=================================================================\n",
      "keras_layer_2 (KerasLayer)   (None, 128)               124642688 \n",
      "_________________________________________________________________\n",
      "dense_6 (Dense)              (None, 16)                2064      \n",
      "_________________________________________________________________\n",
      "dense_7 (Dense)              (None, 1)                 17        \n",
      "=================================================================\n",
      "Total params: 124,644,769\n",
      "Trainable params: 124,644,769\n",
      "Non-trainable params: 0\n",
      "_________________________________________________________________\n"
     ]
    }
   ],
   "source": [
    "model.summary()"
   ]
  },
  {
   "cell_type": "code",
   "execution_count": 32,
   "metadata": {},
   "outputs": [],
   "source": [
    "model.compile(optimizer='adam',\n",
    "              loss=tf.losses.BinaryCrossentropy(from_logits=True),\n",
    "              metrics=[tf.metrics.BinaryAccuracy(threshold=0.0)])"
   ]
  },
  {
   "cell_type": "code",
   "execution_count": 33,
   "metadata": {},
   "outputs": [
    {
     "name": "stdout",
     "output_type": "stream",
     "text": [
      "Epoch 1/10\n",
      "13/13 [==============================] - 26s 2s/step - loss: 0.6632 - binary_accuracy: 0.6243 - val_loss: 0.6234 - val_binary_accuracy: 0.7098\n",
      "Epoch 2/10\n",
      "13/13 [==============================] - 22s 2s/step - loss: 0.5565 - binary_accuracy: 0.8043 - val_loss: 0.5512 - val_binary_accuracy: 0.7645\n",
      "Epoch 3/10\n",
      "13/13 [==============================] - 22s 2s/step - loss: 0.4518 - binary_accuracy: 0.8683 - val_loss: 0.4748 - val_binary_accuracy: 0.8211\n",
      "Epoch 4/10\n",
      "13/13 [==============================] - 22s 2s/step - loss: 0.3499 - binary_accuracy: 0.9125 - val_loss: 0.4140 - val_binary_accuracy: 0.8432\n",
      "Epoch 5/10\n",
      "13/13 [==============================] - 22s 2s/step - loss: 0.2636 - binary_accuracy: 0.9390 - val_loss: 0.3718 - val_binary_accuracy: 0.8499\n",
      "Epoch 6/10\n",
      "13/13 [==============================] - 24s 2s/step - loss: 0.1937 - binary_accuracy: 0.9582 - val_loss: 0.3452 - val_binary_accuracy: 0.8538\n",
      "Epoch 7/10\n",
      "13/13 [==============================] - 40s 3s/step - loss: 0.1407 - binary_accuracy: 0.9738 - val_loss: 0.3300 - val_binary_accuracy: 0.8605\n",
      "Epoch 8/10\n",
      "13/13 [==============================] - 34s 3s/step - loss: 0.1019 - binary_accuracy: 0.9840 - val_loss: 0.3242 - val_binary_accuracy: 0.8630\n",
      "Epoch 9/10\n",
      "13/13 [==============================] - 30s 2s/step - loss: 0.0742 - binary_accuracy: 0.9907 - val_loss: 0.3233 - val_binary_accuracy: 0.8618\n",
      "Epoch 10/10\n",
      "13/13 [==============================] - 30s 2s/step - loss: 0.0552 - binary_accuracy: 0.9958 - val_loss: 0.3237 - val_binary_accuracy: 0.8624\n",
      "Time elapsed (mins): 4.519191511472067\n"
     ]
    }
   ],
   "source": [
    "start = time.time()\n",
    "\n",
    "nnlm128history = model.fit(xTrain, yTrain,\n",
    "                    validation_data=(xTest, yTest),\n",
    "                    batch_size=batchSize,\n",
    "                    epochs=numEpochs)\n",
    "                    \n",
    "end = time.time()\n",
    "print(\"Time elapsed (mins):\", (end-start)/60)"
   ]
  },
  {
   "cell_type": "code",
   "execution_count": 34,
   "metadata": {},
   "outputs": [],
   "source": [
    "historyDicts['nnlm128'] = nnlm128history.history\n",
    "historyDicts['nnlm128']['trainTime'] = round((end - start)/60, 2)"
   ]
  },
  {
   "cell_type": "code",
   "execution_count": null,
   "metadata": {},
   "outputs": [],
   "source": []
  },
  {
   "cell_type": "code",
   "execution_count": null,
   "metadata": {},
   "outputs": [],
   "source": []
  },
  {
   "cell_type": "code",
   "execution_count": null,
   "metadata": {},
   "outputs": [],
   "source": []
  },
  {
   "cell_type": "markdown",
   "metadata": {},
   "source": [
    "# Plot accuracy"
   ]
  },
  {
   "cell_type": "code",
   "execution_count": 35,
   "metadata": {},
   "outputs": [],
   "source": [
    "try:\n",
    "    importlib.reload(historyPlotter) \n",
    "    #in jupyter environments it's best to reload libraries with importlib after they've been updated \n",
    "except:\n",
    "    import historyPlotter"
   ]
  },
  {
   "cell_type": "code",
   "execution_count": 37,
   "metadata": {},
   "outputs": [
    {
     "data": {
      "image/png": "[encoded data removed]",
      "text/plain": [
       "<Figure size 576x396 with 1 Axes>"
      ]
     },
     "metadata": {},
     "output_type": "display_data"
    }
   ],
   "source": [
    "historyPlotter.valHistoryPlotter(historyDicts, 'Embedding comparisons using IMBD sentiment analysis dataset')"
   ]
  },
  {
   "cell_type": "code",
   "execution_count": null,
   "metadata": {},
   "outputs": [],
   "source": []
  },
  {
   "cell_type": "code",
   "execution_count": null,
   "metadata": {},
   "outputs": [],
   "source": []
  },
  {
   "cell_type": "code",
   "execution_count": null,
   "metadata": {},
   "outputs": [],
   "source": []
  },
  {
   "cell_type": "code",
   "execution_count": null,
   "metadata": {},
   "outputs": [],
   "source": []
  },
  {
   "cell_type": "markdown",
   "metadata": {},
   "source": [
    "## Extras "
   ]
  },
  {
   "cell_type": "markdown",
   "metadata": {},
   "source": [
    "Predict on given sentence "
   ]
  },
  {
   "cell_type": "code",
   "execution_count": null,
   "metadata": {},
   "outputs": [],
   "source": [
    "def predOnReview(text):\n",
    "    return model(vectorize_layer([text]))"
   ]
  },
  {
   "cell_type": "code",
   "execution_count": null,
   "metadata": {},
   "outputs": [],
   "source": [
    "predOnReview('''\n",
    "'This movie is the most worst awful disappointing amazing great fantastic movie Ive seen in my entire life'\n",
    "''')"
   ]
  },
  {
   "cell_type": "code",
   "execution_count": null,
   "metadata": {},
   "outputs": [],
   "source": [
    "predOnReview('''\n",
    " Buyer beware. Laptop arrived today, box was not damaged. Unboxed it, plugged in the charger, pressed the power button and nothing. Plug works and has other devices plugged in.\n",
    " ''')"
   ]
  },
  {
   "cell_type": "code",
   "execution_count": null,
   "metadata": {},
   "outputs": [],
   "source": []
  },
  {
   "cell_type": "markdown",
   "metadata": {},
   "source": [
    "Note about preprocessing \n",
    "\n",
    "The vectorization layer includes tokenization, but if you wanted to do it separately (to, for example, apply a pretrained embedder to words instead of sentences), you would use text.Tokenizer"
   ]
  },
  {
   "cell_type": "raw",
   "metadata": {},
   "source": [
    "from tensorflow.keras.preprocessing import text\n",
    "tokenizer = text.Tokenizer(num_words=5000)\n",
    "tokenizer.fit_on_texts(np.array([i.decode('utf-8') for i in xTrain]))\n",
    "tokenizedXTrain = tokenizer.texts_to_sequences(np.array([i.decode('utf-8') for i in xTrain]))\n",
    "backToText = tokenizer.sequences_to_texts(tokenizedXTrain)\n",
    "\n",
    "#then use this to make all sequences the same length: \n",
    "sequence.pad_sequences(text_sequences, maxlen=max_sequence_length)"
   ]
  },
  {
   "cell_type": "code",
   "execution_count": null,
   "metadata": {},
   "outputs": [],
   "source": []
  },
  {
   "cell_type": "code",
   "execution_count": null,
   "metadata": {},
   "outputs": [],
   "source": []
  }
 ],
 "metadata": {
  "kernelspec": {
   "display_name": "Python 3",
   "language": "python",
   "name": "python3"
  },
  "language_info": {
   "codemirror_mode": {
    "name": "ipython",
    "version": 3
   },
   "file_extension": ".py",
   "mimetype": "text/x-python",
   "name": "python",
   "nbconvert_exporter": "python",
   "pygments_lexer": "ipython3",
   "version": "3.7.2"
  }
 },
 "nbformat": 4,
 "nbformat_minor": 4
}
